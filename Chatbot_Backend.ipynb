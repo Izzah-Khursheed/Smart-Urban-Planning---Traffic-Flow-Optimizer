{
  "nbformat": 4,
  "nbformat_minor": 0,
  "metadata": {
    "colab": {
      "provenance": [],
      "authorship_tag": "ABX9TyMYBAQrZZ/1sOdJMhoy/wLp",
      "include_colab_link": true
    },
    "kernelspec": {
      "name": "python3",
      "display_name": "Python 3"
    },
    "language_info": {
      "name": "python"
    }
  },
  "cells": [
    {
      "cell_type": "markdown",
      "metadata": {
        "id": "view-in-github",
        "colab_type": "text"
      },
      "source": [
        "<a href=\"https://colab.research.google.com/github/Izzah-Khursheed/Smart-Urban-Planning---Traffic-Flow-Optimizer/blob/main/Chatbot_Backend.ipynb\" target=\"_parent\"><img src=\"https://colab.research.google.com/assets/colab-badge.svg\" alt=\"Open In Colab\"/></a>"
      ]
    },
    {
      "cell_type": "code",
      "source": [
        "import requests\n",
        "import json\n",
        "from google.colab import userdata\n",
        "\n",
        "# Set your Groq API key\n",
        "GROQ_API_KEY = userdata.get('groqAPI')\n",
        "\n",
        "# Correct API URL\n",
        "GROQ_API_URL = \"https://api.groq.com/openai/v1/chat/completions\"\n",
        "\n",
        "# Choose a model (Available: 'llama3-8b-8192', 'gemma-7b-it')\n",
        "MODEL = \"llama3-8b-8192\"\n",
        "\n",
        "def chat_with_groq(user_message):\n",
        "    \"\"\"Send a message to Groq API and return the response.\"\"\"\n",
        "    headers = {\n",
        "        \"Authorization\": f\"Bearer {GROQ_API_KEY}\",\n",
        "        \"Content-Type\": \"application/json\"\n",
        "    }\n",
        "\n",
        "    payload = {\n",
        "        \"model\": MODEL,\n",
        "        \"messages\": [{\"role\": \"user\", \"content\": user_message}],\n",
        "        \"temperature\": 0.7\n",
        "    }\n",
        "\n",
        "    response = requests.post(GROQ_API_URL, headers=headers, json=payload)\n",
        "\n",
        "    if response.status_code == 200:\n",
        "        return response.json()[\"choices\"][0][\"message\"][\"content\"]\n",
        "    else:\n",
        "        return f\"Error: {response.status_code} - {response.text}\"\n",
        "\n",
        "# Run chatbot in a loop\n",
        "print(\"💬 Groq Chatbot (Type 'exit' to stop)\")\n",
        "while True:\n",
        "    user_input = input(\"You: \")\n",
        "    if user_input.lower() == \"exit\":\n",
        "        print(\"Goodbye! 👋\")\n",
        "        break\n",
        "    response = chat_with_groq(user_input)\n",
        "    print(\"Groq:\", response)"
      ],
      "metadata": {
        "colab": {
          "base_uri": "https://localhost:8080/"
        },
        "id": "LH8z7ITkaw7J",
        "outputId": "8ea2865a-d258-4bb7-e6a6-d989d6ef2794"
      },
      "execution_count": 1,
      "outputs": [
        {
          "output_type": "stream",
          "name": "stdout",
          "text": [
            "💬 Groq Chatbot (Type 'exit' to stop)\n",
            "You: EXIT\n",
            "Goodbye! 👋\n"
          ]
        }
      ]
    }
  ]
}